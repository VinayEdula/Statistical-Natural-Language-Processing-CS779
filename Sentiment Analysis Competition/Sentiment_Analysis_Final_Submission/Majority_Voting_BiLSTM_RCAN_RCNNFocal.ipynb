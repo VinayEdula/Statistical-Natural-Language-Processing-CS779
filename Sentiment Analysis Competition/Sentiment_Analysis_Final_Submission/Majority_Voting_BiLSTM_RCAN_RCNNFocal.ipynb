{
 "cells": [
  {
   "cell_type": "code",
   "execution_count": null,
   "metadata": {
    "colab": {
     "base_uri": "https://localhost:8080/"
    },
    "id": "ot5-n8TbigiY",
    "outputId": "49ec4b31-4ef8-476b-b47e-f64c80b283ab"
   },
   "outputs": [
    {
     "name": "stdout",
     "output_type": "stream",
     "text": [
      "Majority vote calculation complete. Results saved in 'answer.txt'.\n"
     ]
    }
   ],
   "source": [
    "with open('/content/answerBiLSTMGMP.txt', 'r') as f1, open('/content/answerRCAN.txt', 'r') as f2, open('/content/answerRCNNFocal.txt', 'r') as f3:\n",
    "    lines1 = f1.readlines()\n",
    "    lines2 = f2.readlines()\n",
    "    lines3 = f3.readlines()\n",
    "\n",
    "majority_votes = []\n",
    "for l1, l2, l3 in zip(lines1, lines2, lines3):\n",
    "    vote = [int(l1.strip()), int(l2.strip()), int(l3.strip())]\n",
    "    majority_label = max(set(vote), key=vote.count)\n",
    "    majority_votes.append(majority_label)\n",
    "\n",
    "with open('answer.txt', 'w') as output_file:\n",
    "    for vote in majority_votes:\n",
    "        output_file.write(f\"{vote}\\n\")\n",
    "\n",
    "print(\"Majority vote calculation complete. Results saved in 'answer.txt'.\")\n"
   ]
  }
 ],
 "metadata": {
  "colab": {
   "provenance": []
  },
  "kernelspec": {
   "display_name": "Python 3",
   "name": "python3"
  },
  "language_info": {
   "name": "python"
  }
 },
 "nbformat": 4,
 "nbformat_minor": 0
}
